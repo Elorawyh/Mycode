{
 "cells": [
  {
   "cell_type": "code",
   "execution_count": 1,
   "id": "6578b0c4",
   "metadata": {
    "scrolled": true
   },
   "outputs": [
    {
     "name": "stdout",
     "output_type": "stream",
     "text": [
      "hello jupyter!\n"
     ]
    }
   ],
   "source": [
    "print(\"hello jupyter!\")"
   ]
  },
  {
   "cell_type": "markdown",
   "id": "5522294e",
   "metadata": {},
   "source": [
    "- Shift+Enter : 运行本单元，选中下个单元\n",
    "- Ctrl+Enter : 运行本单元\n",
    "- Alt+Enter :运行本单元，在其下插入新单元\n",
    "- Y：单元转入代码状态\n",
    "- M：单元转入markdown状态\n",
    "- A ：在上方插入新单元\n",
    "- B：在下方插入新单元\n",
    "- X：剪切选中的单元\n",
    "- Shift +V：在上方粘贴单元"
   ]
  },
  {
   "cell_type": "code",
   "execution_count": null,
   "id": "57cf2c7d",
   "metadata": {},
   "outputs": [],
   "source": []
  }
 ],
 "metadata": {
  "kernelspec": {
   "display_name": "Python 3 (ipykernel)",
   "language": "python",
   "name": "python3"
  },
  "language_info": {
   "codemirror_mode": {
    "name": "ipython",
    "version": 3
   },
   "file_extension": ".py",
   "mimetype": "text/x-python",
   "name": "python",
   "nbconvert_exporter": "python",
   "pygments_lexer": "ipython3",
   "version": "3.9.12"
  }
 },
 "nbformat": 4,
 "nbformat_minor": 5
}
