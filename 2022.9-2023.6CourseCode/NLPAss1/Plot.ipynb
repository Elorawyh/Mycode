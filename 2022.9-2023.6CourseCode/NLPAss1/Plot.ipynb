{
 "cells": [
  {
   "cell_type": "code",
   "execution_count": null,
   "id": "2fea3c2e",
   "metadata": {},
   "outputs": [],
   "source": [
    "# count-plot\n",
    "import pandas as pd\n",
    "import seaborn as sns\n",
    "from collections import Counter\n",
    "import re\n",
    "import matplotlib.pyplot as plt\n",
    "\n",
    "with open('word.count', 'r', encoding='gb18030', errors='ignore') as data:\n",
    "#     df = pd.DataFrame(data, columns=['text'])\n",
    "#     df['text_split'] = df['text'].apply(lambda x: re.findall(r'\\w+', x)) #split sentences to words with regex\n",
    "    words = [item.lower() for sublist in df['text_split'].tolist() for item in sublist] # flattens the list of lists and lowers the words\n",
    "\n",
    "counted_words = Counter(words)\n",
    "counted_df = pd.DataFrame(counted_words.items(), columns=['word', 'count']).sort_values('count', ascending=False).reset_index(drop=True) \n",
    "#create new df from counter\n",
    "\n",
    "plt.figure(figsize=(12,4))\n",
    "sns.barplot(data=counted_df[:10], x='word', y='count', alpha=0.8) #plot only the top 10 by slicing the df\n",
    "plt.ylabel('Number of Occurrences', fontsize=12)\n",
    "plt.xlabel('Word', fontsize=12)\n",
    "plt.xticks(rotation=90)\n",
    "plt.show()"
   ]
  }
 ],
 "metadata": {
  "kernelspec": {
   "display_name": "Python 3 (ipykernel)",
   "language": "python",
   "name": "python3"
  },
  "language_info": {
   "codemirror_mode": {
    "name": "ipython",
    "version": 3
   },
   "file_extension": ".py",
   "mimetype": "text/x-python",
   "name": "python",
   "nbconvert_exporter": "python",
   "pygments_lexer": "ipython3",
   "version": "3.9.12"
  }
 },
 "nbformat": 4,
 "nbformat_minor": 5
}
