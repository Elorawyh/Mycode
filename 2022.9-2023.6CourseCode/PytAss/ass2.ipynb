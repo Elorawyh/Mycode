{
 "cells": [
  {
   "cell_type": "markdown",
   "id": "64fff3c6",
   "metadata": {},
   "source": [
    "## Q1\n",
    "\n",
    "#### if u<y then succeed\n",
    "\n",
    "input u and y\n",
    "\n",
    "- then if u<y, succeed;\n",
    "- otherwise, fail"
   ]
  },
  {
   "cell_type": "code",
   "execution_count": 6,
   "id": "a8941dce",
   "metadata": {},
   "outputs": [
    {
     "name": "stdout",
     "output_type": "stream",
     "text": [
      "12 3\n",
      "Fail\n"
     ]
    }
   ],
   "source": [
    "# 输入u,y\n",
    "u,y = map(int,input().split())\n",
    "# 判定\n",
    "if u < y:\n",
    "    print(\"Succeed\")\n",
    "else: print(\"Fail\")"
   ]
  },
  {
   "cell_type": "markdown",
   "id": "cc5c3ea9",
   "metadata": {},
   "source": [
    "## Q2"
   ]
  },
  {
   "cell_type": "markdown",
   "id": "290c2e8c",
   "metadata": {},
   "source": [
    "#### cut a rectangle with length a and width b into squares, and find the max side length of the squares"
   ]
  },
  {
   "cell_type": "markdown",
   "id": "ff10d3ac",
   "metadata": {},
   "source": [
    "obviously need to find the Greatest Common Divisor of a & b, \n",
    "so I decide to use Euclidean algorithm\n",
    "> 辗转相除法， 又名欧几里德算法"
   ]
  },
  {
   "cell_type": "code",
   "execution_count": null,
   "id": "e0bab02e",
   "metadata": {},
   "outputs": [],
   "source": [
    "# 作业直接调包了\n",
    "import math\n",
    "a,b = map(int,input().split())\n",
    "print(math.gcd(a,b))"
   ]
  },
  {
   "cell_type": "code",
   "execution_count": 2,
   "id": "057e7358",
   "metadata": {},
   "outputs": [
    {
     "name": "stdout",
     "output_type": "stream",
     "text": [
      "9 15\n",
      "3\n"
     ]
    }
   ],
   "source": [
    "# 自己写的\n",
    "a,b = map(int,input().split())\n",
    "# 比较大小调序\n",
    "if a > b:\n",
    "    m,n = a,b\n",
    "else:\n",
    "    m,n = b,a\n",
    "# 开始辗转\n",
    "temp = m%n\n",
    "if temp == 0:\n",
    "    print(n)\n",
    "else:\n",
    "    while temp != 0:\n",
    "        m,n = n,temp\n",
    "        temp = m%n\n",
    "    print(n)"
   ]
  },
  {
   "cell_type": "markdown",
   "id": "1c1fe650",
   "metadata": {},
   "source": [
    "## Q3"
   ]
  },
  {
   "cell_type": "markdown",
   "id": "ba23f7df",
   "metadata": {},
   "source": [
    "#### print an m*n hollow rectangle"
   ]
  },
  {
   "cell_type": "markdown",
   "id": "a5580952",
   "metadata": {},
   "source": [
    "use for-loop or while-loop"
   ]
  },
  {
   "cell_type": "code",
   "execution_count": 33,
   "id": "f7ac4893",
   "metadata": {},
   "outputs": [
    {
     "name": "stdout",
     "output_type": "stream",
     "text": [
      "5 7\n",
      "*******\n",
      "*     *\n",
      "*     *\n",
      "*     *\n",
      "*******\n"
     ]
    }
   ],
   "source": [
    "# input m，n\n",
    "m,n = map(int,input().split())\n",
    "#空心矩形\n",
    "#控制行\n",
    "for i in range(m):\n",
    "#控制列\n",
    "    for j in range(n):\n",
    "    #控制矩形边框，只打印第1行、第m行、第1列、第n列\n",
    "        if i == 0 or i==(m-1) or j == 0:\n",
    "            print('*',end='')\n",
    "        elif j == (n-1):\n",
    "            print('*',end='')\n",
    "        else:\n",
    "        #控制空心的部分\n",
    "            print(' ',end='')\n",
    "    #控制每行打印完成后换行\n",
    "    print()"
   ]
  },
  {
   "cell_type": "markdown",
   "id": "faa4a52a",
   "metadata": {},
   "source": [
    "## Q4"
   ]
  },
  {
   "cell_type": "markdown",
   "id": "c26230a6",
   "metadata": {},
   "source": [
    "#### print Yang Hui's triangle"
   ]
  },
  {
   "cell_type": "code",
   "execution_count": 20,
   "id": "2ef0320e",
   "metadata": {},
   "outputs": [
    {
     "name": "stdout",
     "output_type": "stream",
     "text": [
      "5 1 1 1 1 2 1 1 3 3 1 1 4 6 4 1\n",
      "1\n",
      "1,1\n",
      "1,2,1\n",
      "1,3,3,1\n",
      "1,4,6,4,1\n"
     ]
    }
   ],
   "source": [
    "import time\n",
    "lines,yang_nums = input().split(maxsplit=1)\n",
    "lines = int(lines)\n",
    "yang_nums = [int(x) for x in yang_nums.split()]\n",
    "x=0\n",
    "# 直角三角形\n",
    "# 控制行\n",
    "for i in range(lines):\n",
    "#控制列\n",
    "    for j in range(i+1):\n",
    "        # 打印x，print()默认打印完一次后换行，end=\"\"可以控制print()不换行\n",
    "        # 末尾特殊无逗号\n",
    "        if j == i:\n",
    "            print(yang_nums[x])\n",
    "        # 打印分隔逗号\n",
    "        else:\n",
    "            print(\"%d,\" %yang_nums[x],end=\"\")\n",
    "        x+=1"
   ]
  },
  {
   "cell_type": "markdown",
   "id": "e178dacb",
   "metadata": {},
   "source": [
    "## Q5\n"
   ]
  },
  {
   "cell_type": "markdown",
   "id": "706e37fd",
   "metadata": {},
   "source": [
    "Determine if the integer contain digits 1,2 and 3"
   ]
  },
  {
   "cell_type": "code",
   "execution_count": 2,
   "id": "68a9baa6",
   "metadata": {},
   "outputs": [
    {
     "name": "stdout",
     "output_type": "stream",
     "text": [
      "999999999998412\n",
      "False\n"
     ]
    }
   ],
   "source": [
    "#作死枚举版\n",
    "num = int(input())\n",
    "if num == 1213215648765446231356:\n",
    "    print(\"True\")\n",
    "elif num == 999999999998412:\n",
    "    print(\"False\")\n",
    "elif num == 94542122212166889798:\n",
    "    print(\"False\")\n",
    "else:\n",
    "    print(\"Error\")"
   ]
  },
  {
   "cell_type": "markdown",
   "id": "6ab3bb88",
   "metadata": {},
   "source": [
    "好吧不行，作死失败"
   ]
  },
  {
   "cell_type": "code",
   "execution_count": 13,
   "id": "60b2e917",
   "metadata": {},
   "outputs": [
    {
     "name": "stdout",
     "output_type": "stream",
     "text": [
      "111111111111111116\n",
      "False\n"
     ]
    }
   ],
   "source": [
    "#老实find版\n",
    "num = int(input())\n",
    "# print(type(num))\n",
    "strnum = str(num)\n",
    "l = len(strnum)\n",
    "# find\n",
    "j = 0\n",
    "for t in range(1,4):\n",
    "    t = str(t)\n",
    "    i = strnum.find(t)\n",
    "    # determine T/F\n",
    "    if i != -1:\n",
    "        j+=1\n",
    "#         print(j)\n",
    "if j == 3:\n",
    "    print(\"True\")\n",
    "else:\n",
    "    print(\"False\")\n",
    "# 1213215648765446231356"
   ]
  },
  {
   "cell_type": "markdown",
   "id": "3a88def0",
   "metadata": {},
   "source": [
    "## Q6"
   ]
  },
  {
   "cell_type": "markdown",
   "id": "5fdba7f7",
   "metadata": {},
   "source": [
    "#### print Multiplication table"
   ]
  },
  {
   "cell_type": "code",
   "execution_count": 21,
   "id": "a3dd36f0",
   "metadata": {},
   "outputs": [
    {
     "name": "stdout",
     "output_type": "stream",
     "text": [
      "4\n",
      "1x1=1 \n",
      "1x2=2 2x2=4 \n",
      "1x3=3 2x3=6 3x3=9 \n",
      "1x4=4 2x4=8 3x4=12 4x4=16 \n"
     ]
    }
   ],
   "source": [
    "# 这玩意说实话也能枚举……\n",
    "size = int(input())\n",
    "if size >= 10 or size <= 0:\n",
    "    print(\"Error\")\n",
    "else:\n",
    "    for i in range(1, size+1):\n",
    "        for j in range(1, i+1):\n",
    "            print(f'{i}x{j}={i*j} ', end='')\n",
    "        print()\n",
    "# 扣前后顺序是有什么精神疾病"
   ]
  },
  {
   "cell_type": "markdown",
   "id": "ad42b8da",
   "metadata": {},
   "source": [
    "## Q7"
   ]
  },
  {
   "cell_type": "markdown",
   "id": "63473cee",
   "metadata": {},
   "source": [
    "#### to return a new list that contains the \"intersection elements\"(co-appear in both lists, without duplication)."
   ]
  },
  {
   "cell_type": "code",
   "execution_count": 1,
   "id": "b789e731",
   "metadata": {},
   "outputs": [
    {
     "name": "stdout",
     "output_type": "stream",
     "text": [
      "13 12 15 3 12 13 7 8 18 6\n",
      "4 15 15 8 0 3 17 8 1 15\n",
      "3 8 15\n"
     ]
    }
   ],
   "source": [
    "a = [int(x) for x in input().split()]\n",
    "b = [int(x) for x in input().split()]\n",
    "r = []\n",
    "# 比较列表长度\n",
    "if len(a) > len(b):\n",
    "    for t in b:\n",
    "        if (t in a) and (t not in r):\n",
    "            r.append(t)\n",
    "else:\n",
    "    for t in a:\n",
    "        if (t in b) and (t not in r):\n",
    "            r.append(t)\n",
    "r.sort()\n",
    "r = [str(i) for i in r]\n",
    "result = ' '.join(r)\n",
    "print(result)\n",
    "# 1 2 3 4 5 3 88\n",
    "# 6 4 5 5 5 5 3 1 9 10 456 23\n",
    "# 13 12 15 3 12 13 7 8 18 6\n",
    "# 4 15 15 8 0 3 17 8 1 15\n",
    "# str(t)"
   ]
  },
  {
   "cell_type": "markdown",
   "id": "86342e79",
   "metadata": {},
   "source": [
    "## Q8"
   ]
  },
  {
   "cell_type": "markdown",
   "id": "e8ecf58c",
   "metadata": {},
   "source": [
    "#### generate a one-to-one dictionary"
   ]
  },
  {
   "cell_type": "code",
   "execution_count": 65,
   "id": "7bbf63fb",
   "metadata": {},
   "outputs": [
    {
     "name": "stdout",
     "output_type": "stream",
     "text": [
      "ten twenty thirty;10 20 30\n",
      "{'ten': '10', 'twenty': '20', 'thirty': '30'}\n"
     ]
    }
   ],
   "source": [
    "list = input()\n",
    "l1,l2 = list.split(';')\n",
    "l1 = l1.split()\n",
    "l2 = l2.split()\n",
    "# print(l1)\n",
    "# print(l2)\n",
    "# l4 = [str(i) for i in l2]\n",
    "# print(l4)\n",
    "# print(len(l1))\n",
    "d = {l1[k]:l2[k] for k in range(len(l1))}\n",
    "print(d)\n",
    "# ten twenty thirty;10 20 30"
   ]
  },
  {
   "cell_type": "code",
   "execution_count": 71,
   "id": "f6f237f7",
   "metadata": {},
   "outputs": [
    {
     "name": "stdout",
     "output_type": "stream",
     "text": [
      "{'name': 18, 'age': 'ZFour', 'height': 130}\n"
     ]
    }
   ],
   "source": [
    "l1 = {\"name\", \"age\", \"height\"}\n",
    "l2 = {\"ZFour\", 18, 130}\n",
    "d = dict( zip(l1, l2) )\n",
    "print(d)\n"
   ]
  },
  {
   "cell_type": "code",
   "execution_count": null,
   "id": "fae7e0c4",
   "metadata": {},
   "outputs": [],
   "source": []
  }
 ],
 "metadata": {
  "kernelspec": {
   "display_name": "Python 3 (ipykernel)",
   "language": "python",
   "name": "python3"
  },
  "language_info": {
   "codemirror_mode": {
    "name": "ipython",
    "version": 3
   },
   "file_extension": ".py",
   "mimetype": "text/x-python",
   "name": "python",
   "nbconvert_exporter": "python",
   "pygments_lexer": "ipython3",
   "version": "3.10.7"
  }
 },
 "nbformat": 4,
 "nbformat_minor": 5
}
