{
 "cells": [
  {
   "cell_type": "markdown",
   "metadata": {},
   "source": [
    "## Q1"
   ]
  },
  {
   "cell_type": "markdown",
   "metadata": {},
   "source": [
    "#### Given a string, you should implement an algorithm to determine if a string has all unique characters. (Case sensitive)"
   ]
  },
  {
   "cell_type": "code",
   "execution_count": null,
   "metadata": {},
   "outputs": [],
   "source": [
    "# 获取字符\n",
    "string = input()\n",
    "# 比较set中字符串长度和初始字符串的长度\n",
    "print(len(set(string)) == len(string))"
   ]
  },
  {
   "cell_type": "markdown",
   "metadata": {},
   "source": [
    "## Q2"
   ]
  },
  {
   "cell_type": "markdown",
   "metadata": {},
   "source": [
    "#### Given an integer number, repeatedly sum the digits of number until the sum has only one digit."
   ]
  },
  {
   "cell_type": "code",
   "execution_count": 2,
   "metadata": {},
   "outputs": [
    {
     "name": "stdout",
     "output_type": "stream",
     "text": [
      "12344567\n",
      "5\n"
     ]
    }
   ],
   "source": [
    "# 输入\n",
    "num = int(input())\n",
    "# 判定是否两位级以上\n",
    "while num >= 10:\n",
    "    n = [char for char in str(num)]\n",
    "    num = sum([int(a) for a in n])\n",
    "print(num)"
   ]
  },
  {
   "cell_type": "markdown",
   "metadata": {},
   "source": [
    "## Q3"
   ]
  },
  {
   "cell_type": "markdown",
   "metadata": {},
   "source": [
    "#### The output is the number of times 'joe' appear in the sentence"
   ]
  },
  {
   "cell_type": "code",
   "execution_count": 7,
   "metadata": {},
   "outputs": [
    {
     "name": "stdout",
     "output_type": "stream",
     "text": [
      "joe thinks joe is a good boy\n",
      "2\n"
     ]
    }
   ],
   "source": [
    "s = input()\n",
    "sub = 'joe'\n",
    "c = s.count(sub)\n",
    "print(c)"
   ]
  },
  {
   "cell_type": "markdown",
   "metadata": {},
   "source": [
    "## Q4"
   ]
  },
  {
   "cell_type": "markdown",
   "metadata": {},
   "source": [
    "#### you need to return a list 'students'containing all the student's name whose GPA is equal to the given one."
   ]
  },
  {
   "cell_type": "code",
   "execution_count": 38,
   "metadata": {},
   "outputs": [
    {
     "name": "stdout",
     "output_type": "stream",
     "text": [
      "B- {'Daxton': 'B-', 'Kitty': 'D', 'Angelia': 'C', 'Kimberley': 'D+', 'Bea': 'F', 'Quincy': 'A-', 'Presley': 'A-', 'Preston': 'D+', 'Lyndsey': 'D+', 'Katrina': 'B-', 'Zelida': 'F', 'Douglas': 'A-', 'Lesley': 'B-', 'Primrose': 'C+', 'Brynn': 'A-', 'Monty': 'F', 'Palmer': 'B', 'Darcie': 'D', 'Anthea': 'C-', 'Uriah': 'A'}\n",
      "['Daxton', 'Katrina', 'Lesley']\n"
     ]
    }
   ],
   "source": [
    "def get_students(GPA,student_record):\n",
    "  #write your code here\n",
    "  names = [k for k, v in student_record.items() if v == GPA]\n",
    "  return names\n",
    "\n",
    "\n",
    "#Do not modify the code below\n",
    "_input = input()\n",
    "GPA,student_record = _input.split(' ',1)\n",
    "student_record=eval(student_record)\n",
    "names = get_students(GPA,student_record)\n",
    "names.sort()\n",
    "print(str(names))"
   ]
  },
  {
   "cell_type": "markdown",
   "metadata": {},
   "source": [
    "## Q5"
   ]
  },
  {
   "cell_type": "markdown",
   "metadata": {},
   "source": [
    "#### Given a string with the lower and upper case, return a new string which upper cases come first."
   ]
  },
  {
   "cell_type": "code",
   "execution_count": 44,
   "metadata": {},
   "outputs": [
    {
     "name": "stdout",
     "output_type": "stream",
     "text": [
      "ANewString\n",
      "ANSewtring\n"
     ]
    }
   ],
   "source": [
    "import re\n",
    "str1 = str(input())\n",
    "r1 = ''.join(re.findall(r'[A-Z\\s]', str1))\n",
    "r2 = ''.join(re.findall(r'[a-z\\s]', str1))\n",
    "r = r1 + r2\n",
    "print(r)"
   ]
  },
  {
   "cell_type": "markdown",
   "metadata": {},
   "source": [
    "## Q6"
   ]
  },
  {
   "cell_type": "markdown",
   "metadata": {},
   "source": [
    "#### give you a range from a to b, you need to find all the prime numbers in this range and list them"
   ]
  },
  {
   "cell_type": "markdown",
   "metadata": {},
   "source": [
    "思路：一个正整数，如果大于1且无法整除任何一个不大于自身平方根的数，那么为质数"
   ]
  },
  {
   "cell_type": "code",
   "execution_count": 49,
   "metadata": {},
   "outputs": [
    {
     "name": "stdout",
     "output_type": "stream",
     "text": [
      "2 40\n",
      "2 3 5 7 11 13 17 19 23 29 31 37 "
     ]
    }
   ],
   "source": [
    "from math import sqrt\n",
    "a,b = [int(num) for num in input().split()] \n",
    "for num in range(a,b+1):\n",
    "    # 大于1且无法整除任何一个不大于自身平方根的数\n",
    "    if num > 1:\n",
    "        for i in range(2,int(sqrt(num)+1)):\n",
    "            if (num % i) == 0:\n",
    "                break\n",
    "        else:\n",
    "            print(num, end = ' ')"
   ]
  },
  {
   "cell_type": "markdown",
   "metadata": {},
   "source": [
    "## Q7"
   ]
  },
  {
   "cell_type": "markdown",
   "metadata": {},
   "source": [
    "#### Given an input string with the combination of the lower and upper, return a new string made by the characters start by the second upper character and end by the character before the third upper character (The same upper characters don't appear twice)."
   ]
  },
  {
   "cell_type": "markdown",
   "metadata": {},
   "source": [
    "输出介于第二个和第三个大写字母之间的无重复字符"
   ]
  },
  {
   "cell_type": "code",
   "execution_count": 51,
   "metadata": {},
   "outputs": [
    {
     "name": "stdout",
     "output_type": "stream",
     "text": [
      "VlaDiMir\n",
      "Di\n"
     ]
    }
   ],
   "source": [
    "import re\n",
    "str1 = str(input())\n",
    "# 提取所有大写字母\n",
    "r1 = ''.join(re.findall(r'[A-Z\\s]', str1))\n",
    "# 提取目标字符索引\n",
    "a = str1.find(r1[1])\n",
    "b = str1.find(r1[2])\n",
    "# 输出其中字符\n",
    "l = str1[a:b]\n",
    "# 查重\n",
    "set(l)\n",
    "print(l)"
   ]
  },
  {
   "cell_type": "markdown",
   "metadata": {},
   "source": [
    "## Q8"
   ]
  },
  {
   "cell_type": "markdown",
   "metadata": {},
   "source": [
    "#### Moving Average"
   ]
  },
  {
   "cell_type": "code",
   "execution_count": 109,
   "metadata": {},
   "outputs": [
    {
     "name": "stdout",
     "output_type": "stream",
     "text": [
      "5 8 5 2 3 8 6 4 8 5 2\n",
      "8.00 6.50 5.00 4.50 5.20 4.80 4.60 5.80 6.20 5.00\n"
     ]
    }
   ],
   "source": [
    "from queue import Queue\n",
    "from decimal import Decimal\n",
    "nums = input().split()\n",
    "window_size,nums = int(nums[0]),[int(i) for i in nums[1:]]\n",
    "q = Queue()\n",
    "# 开始输入\n",
    "sum = 0\n",
    "# 窗口不完整\n",
    "for p in range(0,(window_size-1)):\n",
    "    # 当前窗口总值\n",
    "    sum += nums[p]\n",
    "    # 计算移动值\n",
    "    aver = sum/(p+1)\n",
    "    q.put(aver)\n",
    "\n",
    "# 窗口完整\n",
    "for p in range((window_size),len(nums)+1):\n",
    "    # 获取窗口总值\n",
    "    # sum初始化\n",
    "    sum = 0\n",
    "    for t in range(1,(window_size+1)):\n",
    "        sum += nums[p-t]\n",
    "    aver = (sum/window_size)\n",
    "    q.put(aver)\n",
    "\n",
    "# 转储为list\n",
    "res = list(q.queue)\n",
    "# 两位小数\n",
    "r_res = [Decimal(l).quantize(Decimal(\"0.00\")) for l in res]\n",
    "# 字符化\n",
    "s_res = [str(l) for l in r_res]\n",
    "sp_res = ' '.join(s_res)\n",
    "print(sp_res)\n"
   ]
  }
 ],
 "metadata": {
  "kernelspec": {
   "display_name": "Python 3 (ipykernel)",
   "language": "python",
   "name": "python3"
  },
  "language_info": {
   "codemirror_mode": {
    "name": "ipython",
    "version": 3
   },
   "file_extension": ".py",
   "mimetype": "text/x-python",
   "name": "python",
   "nbconvert_exporter": "python",
   "pygments_lexer": "ipython3",
   "version": "3.10.7"
  }
 },
 "nbformat": 4,
 "nbformat_minor": 2
}
